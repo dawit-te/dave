{
  "metadata": {
    "language_info": {
      "codemirror_mode": {
        "name": "python",
        "version": 3
      },
      "file_extension": ".py",
      "mimetype": "text/x-python",
      "name": "python",
      "nbconvert_exporter": "python",
      "pygments_lexer": "ipython3",
      "version": "3.8"
    },
    "kernelspec": {
      "name": "python",
      "display_name": "Python (Pyodide)",
      "language": "python"
    }
  },
  "nbformat_minor": 4,
  "nbformat": 4,
  "cells": [
    {
      "cell_type": "markdown",
      "source": "# Data SCience TOOls and Ecosystem",
      "metadata": {}
    },
    {
      "cell_type": "markdown",
      "source": "In this notebook,Data science Tools and ECosystem are summarized",
      "metadata": {}
    },
    {
      "cell_type": "markdown",
      "source": "# Objectives:\nList popular Languages for Data science,\nList commonly used libraries used by Data scientists,\ncreate and execute markdown cell with table,\ncreate and execute markdown cell for arithmetic expressions and\ncreate and execute code cell for arithmetic expressions",
      "metadata": {}
    },
    {
      "cell_type": "markdown",
      "source": "Some of the popular Languages that Data scientist use are:\n\n    1. python\n    2. R\n    3. SQL",
      "metadata": {}
    },
    {
      "cell_type": "markdown",
      "source": "Some of the commonly used Libraries used by Data Scientists include:\n    \n    1.Panda\n    2.Tensorflow\n    3.Apachespark",
      "metadata": {}
    },
    {
      "cell_type": "markdown",
      "source": "|Data science Tools|\n|------------------|\n|Jupyter Notbook   |\n|Apache Zeppelin   |\n|R Studio          |",
      "metadata": {}
    },
    {
      "cell_type": "markdown",
      "source": "### Below are a few examples of evaluating arithmetic expressions in python",
      "metadata": {}
    },
    {
      "cell_type": "code",
      "source": "\"This a simplle arithmetic expression to multply then add integers.\"\n(3*4)+5",
      "metadata": {
        "trusted": true
      },
      "execution_count": 8,
      "outputs": [
        {
          "execution_count": 8,
          "output_type": "execute_result",
          "data": {
            "text/plain": "17"
          },
          "metadata": {}
        }
      ]
    },
    {
      "cell_type": "code",
      "source": "\" This will convert 200 minutes to hours by divding by 60\"\n200/60",
      "metadata": {
        "trusted": true
      },
      "execution_count": 9,
      "outputs": [
        {
          "execution_count": 9,
          "output_type": "execute_result",
          "data": {
            "text/plain": "3.3333333333333335"
          },
          "metadata": {}
        }
      ]
    },
    {
      "cell_type": "markdown",
      "source": "## AUTHOR\nDawit Abadi",
      "metadata": {}
    },
    {
      "cell_type": "code",
      "source": "",
      "metadata": {},
      "execution_count": null,
      "outputs": []
    }
  ]
}